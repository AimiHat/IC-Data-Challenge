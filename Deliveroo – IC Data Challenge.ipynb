{
 "cells": [
  {
   "cell_type": "code",
   "execution_count": 1,
   "metadata": {},
   "outputs": [],
   "source": [
    "import pandas as pd\n",
    "import numpy as np\n",
    "import pickle\n",
    "import utils\n",
    "from collections import Counter\n",
    "from sklearn.decomposition import PCA\n",
    "from matplotlib import pyplot as plt\n",
    "from sklearn.cluster import KMeans"
   ]
  },
  {
   "cell_type": "code",
   "execution_count": 2,
   "metadata": {},
   "outputs": [],
   "source": [
    "data = pd.read_csv('challenge_dat.csv')"
   ]
  },
  {
   "cell_type": "code",
   "execution_count": 3,
   "metadata": {},
   "outputs": [
    {
     "data": {
      "text/html": [
       "<div>\n",
       "<style>\n",
       "    .dataframe thead tr:only-child th {\n",
       "        text-align: right;\n",
       "    }\n",
       "\n",
       "    .dataframe thead th {\n",
       "        text-align: left;\n",
       "    }\n",
       "\n",
       "    .dataframe tbody tr th {\n",
       "        vertical-align: top;\n",
       "    }\n",
       "</style>\n",
       "<table border=\"1\" class=\"dataframe\">\n",
       "  <thead>\n",
       "    <tr style=\"text-align: right;\">\n",
       "      <th></th>\n",
       "      <th>RESTAURANT_NAME</th>\n",
       "      <th>CITY</th>\n",
       "      <th>COUNTRY</th>\n",
       "      <th>R_PRIMARY_LOC_TAG</th>\n",
       "      <th>R_OTHER_LOC_TAG</th>\n",
       "      <th>R_MENU_CATEGORY</th>\n",
       "      <th>R_OTHER_MENU_TAGS</th>\n",
       "      <th>ITEM_NAME</th>\n",
       "      <th>DESCRIPTION</th>\n",
       "      <th>IS_ALCOHOL</th>\n",
       "    </tr>\n",
       "  </thead>\n",
       "  <tbody>\n",
       "    <tr>\n",
       "      <th>0</th>\n",
       "      <td>Hero Sandwich</td>\n",
       "      <td>Hong Kong</td>\n",
       "      <td>Hong Kong</td>\n",
       "      <td>american</td>\n",
       "      <td>western</td>\n",
       "      <td>Sandwiches</td>\n",
       "      <td>american, western, burgers, Pasta, Smoothies, ...</td>\n",
       "      <td>Corn Beef Baked Potato</td>\n",
       "      <td>鹹牛肉焗薯</td>\n",
       "      <td>False</td>\n",
       "    </tr>\n",
       "    <tr>\n",
       "      <th>1</th>\n",
       "      <td>Hamachi-Ya</td>\n",
       "      <td>Sydney</td>\n",
       "      <td>Australia</td>\n",
       "      <td>japanese</td>\n",
       "      <td>NaN</td>\n",
       "      <td>japanese</td>\n",
       "      <td>sushi, bento, Cream of the crop, Big flavours,...</td>\n",
       "      <td>Spicy Garlic Edamame</td>\n",
       "      <td>Poached green soy beans tossed with salt fresh...</td>\n",
       "      <td>False</td>\n",
       "    </tr>\n",
       "    <tr>\n",
       "      <th>2</th>\n",
       "      <td>Hamachi-Ya</td>\n",
       "      <td>Sydney</td>\n",
       "      <td>Australia</td>\n",
       "      <td>japanese</td>\n",
       "      <td>NaN</td>\n",
       "      <td>japanese</td>\n",
       "      <td>sushi, bento, Cream of the crop, Big flavours,...</td>\n",
       "      <td>Soft Shell Crab (2pcs)</td>\n",
       "      <td>Deep-fried soft shell crab with light ponzu sauce</td>\n",
       "      <td>False</td>\n",
       "    </tr>\n",
       "    <tr>\n",
       "      <th>3</th>\n",
       "      <td>Hamachi-Ya</td>\n",
       "      <td>Sydney</td>\n",
       "      <td>Australia</td>\n",
       "      <td>japanese</td>\n",
       "      <td>NaN</td>\n",
       "      <td>japanese</td>\n",
       "      <td>sushi, bento, Cream of the crop, Big flavours,...</td>\n",
       "      <td>Harumaki (4Pcs)</td>\n",
       "      <td>Deep-fried Japanese style vegetable springroll</td>\n",
       "      <td>False</td>\n",
       "    </tr>\n",
       "    <tr>\n",
       "      <th>4</th>\n",
       "      <td>Hamachi-Ya</td>\n",
       "      <td>Sydney</td>\n",
       "      <td>Australia</td>\n",
       "      <td>japanese</td>\n",
       "      <td>NaN</td>\n",
       "      <td>japanese</td>\n",
       "      <td>sushi, bento, Cream of the crop, Big flavours,...</td>\n",
       "      <td>Avocado</td>\n",
       "      <td>NaN</td>\n",
       "      <td>False</td>\n",
       "    </tr>\n",
       "  </tbody>\n",
       "</table>\n",
       "</div>"
      ],
      "text/plain": [
       "  RESTAURANT_NAME       CITY    COUNTRY R_PRIMARY_LOC_TAG R_OTHER_LOC_TAG  \\\n",
       "0   Hero Sandwich  Hong Kong  Hong Kong          american         western   \n",
       "1      Hamachi-Ya     Sydney  Australia          japanese             NaN   \n",
       "2      Hamachi-Ya     Sydney  Australia          japanese             NaN   \n",
       "3      Hamachi-Ya     Sydney  Australia          japanese             NaN   \n",
       "4      Hamachi-Ya     Sydney  Australia          japanese             NaN   \n",
       "\n",
       "  R_MENU_CATEGORY                                  R_OTHER_MENU_TAGS  \\\n",
       "0      Sandwiches  american, western, burgers, Pasta, Smoothies, ...   \n",
       "1        japanese  sushi, bento, Cream of the crop, Big flavours,...   \n",
       "2        japanese  sushi, bento, Cream of the crop, Big flavours,...   \n",
       "3        japanese  sushi, bento, Cream of the crop, Big flavours,...   \n",
       "4        japanese  sushi, bento, Cream of the crop, Big flavours,...   \n",
       "\n",
       "                ITEM_NAME                                        DESCRIPTION  \\\n",
       "0  Corn Beef Baked Potato                                              鹹牛肉焗薯   \n",
       "1    Spicy Garlic Edamame  Poached green soy beans tossed with salt fresh...   \n",
       "2  Soft Shell Crab (2pcs)  Deep-fried soft shell crab with light ponzu sauce   \n",
       "3         Harumaki (4Pcs)     Deep-fried Japanese style vegetable springroll   \n",
       "4                 Avocado                                                NaN   \n",
       "\n",
       "   IS_ALCOHOL  \n",
       "0       False  \n",
       "1       False  \n",
       "2       False  \n",
       "3       False  \n",
       "4       False  "
      ]
     },
     "execution_count": 3,
     "metadata": {},
     "output_type": "execute_result"
    }
   ],
   "source": [
    "data.head()"
   ]
  },
  {
   "cell_type": "code",
   "execution_count": 4,
   "metadata": {
    "collapsed": true
   },
   "outputs": [],
   "source": [
    "ascii_data = data.copy()\n",
    "#remove non ascii from description, and text items\n",
    "columns_to_ascii = ['R_OTHER_MENU_TAGS','ITEM_NAME','DESCRIPTION']"
   ]
  },
  {
   "cell_type": "code",
   "execution_count": 5,
   "metadata": {},
   "outputs": [
    {
     "name": "stdout",
     "output_type": "stream",
     "text": [
      "775109  after na removal\n",
      "738849  after ascii\n"
     ]
    }
   ],
   "source": [
    "ascii_data = ascii_data.dropna(subset=['R_OTHER_MENU_TAGS','DESCRIPTION','ITEM_NAME','R_MENU_CATEGORY','R_PRIMARY_LOC_TAG'])\n",
    "print(len(ascii_data), ' after na removal')\n",
    "for col in columns_to_ascii:\n",
    "    ascii_data[col] = ascii_data[col].astype(str).apply(lambda x: ''.join(['' if ord(i) < 32 or ord(i) > 126 else i for i in x]))\n",
    "    ascii_data[col].replace('', np.nan, inplace=True)\n",
    "#remove nan\n",
    "df = ascii_data.dropna(subset=['R_OTHER_MENU_TAGS','DESCRIPTION','ITEM_NAME','R_MENU_CATEGORY','R_PRIMARY_LOC_TAG'])\n",
    "print(len(df), ' after ascii')"
   ]
  },
  {
   "cell_type": "code",
   "execution_count": 6,
   "metadata": {},
   "outputs": [
    {
     "name": "stderr",
     "output_type": "stream",
     "text": [
      "/Users/aimihat/anaconda/lib/python3.6/site-packages/ipykernel_launcher.py:2: SettingWithCopyWarning: \n",
      "A value is trying to be set on a copy of a slice from a DataFrame.\n",
      "Try using .loc[row_indexer,col_indexer] = value instead\n",
      "\n",
      "See the caveats in the documentation: http://pandas.pydata.org/pandas-docs/stable/indexing.html#indexing-view-versus-copy\n",
      "  \n"
     ]
    }
   ],
   "source": [
    "#merging the 3 columns\n",
    "df['food'] = df['R_OTHER_MENU_TAGS'] + \",\" + df['ITEM_NAME'] + \",\" + df['DESCRIPTION']\n",
    "df = df.drop(columns_to_ascii, axis=1)"
   ]
  },
  {
   "cell_type": "code",
   "execution_count": 7,
   "metadata": {},
   "outputs": [],
   "source": [
    "df = df[:10000]\n",
    "tok_df = df.copy()\n",
    "tok_df['food'] = tok_df['food'].apply(utils.tokenize)"
   ]
  },
  {
   "cell_type": "code",
   "execution_count": 8,
   "metadata": {},
   "outputs": [],
   "source": [
    "all_words = []\n",
    "for row in tok_df['food']:\n",
    "    for word in row.split(','):\n",
    "        all_words.append(word)"
   ]
  },
  {
   "cell_type": "code",
   "execution_count": 9,
   "metadata": {},
   "outputs": [],
   "source": [
    "#tok_df['food'].to_csv('10000.csv')"
   ]
  },
  {
   "cell_type": "code",
   "execution_count": 10,
   "metadata": {},
   "outputs": [
    {
     "data": {
      "text/plain": [
       "[('for', 3132),\n",
       " ('with', 3069),\n",
       " ('and', 2915),\n",
       " ('lunch', 2695),\n",
       " ('flavour', 2234),\n",
       " ('onli', 2164),\n",
       " ('deliveroo', 2150),\n",
       " ('small', 2139),\n",
       " ('big', 2125),\n",
       " ('price', 2109)]"
      ]
     },
     "execution_count": 10,
     "metadata": {},
     "output_type": "execute_result"
    }
   ],
   "source": [
    "Counter(all_words).most_common(10)"
   ]
  },
  {
   "cell_type": "code",
   "execution_count": 11,
   "metadata": {},
   "outputs": [],
   "source": [
    "#remove unwanted words\n",
    "generic_words = ['with', 'and', 'the', 'our', 'your']\n",
    "for word in generic_words:\n",
    "    if word in all_words:\n",
    "        all_words.remove(word)\n",
    "        \n",
    "word_set = set(all_words)"
   ]
  },
  {
   "cell_type": "code",
   "execution_count": 12,
   "metadata": {},
   "outputs": [],
   "source": [
    "encoded_df = tok_df.copy()"
   ]
  },
  {
   "cell_type": "code",
   "execution_count": 13,
   "metadata": {},
   "outputs": [],
   "source": [
    "#for everyword\n",
    "for word in word_set:\n",
    "    #create column with 1 if appears 0 else\n",
    "    encoded_df[word] = tok_df['food'].str.contains(word)"
   ]
  },
  {
   "cell_type": "code",
   "execution_count": 14,
   "metadata": {},
   "outputs": [],
   "source": [
    "encoded_df = pd.get_dummies(encoded_df)"
   ]
  },
  {
   "cell_type": "code",
   "execution_count": 15,
   "metadata": {},
   "outputs": [
    {
     "data": {
      "text/html": [
       "<div>\n",
       "<style>\n",
       "    .dataframe thead tr:only-child th {\n",
       "        text-align: right;\n",
       "    }\n",
       "\n",
       "    .dataframe thead th {\n",
       "        text-align: left;\n",
       "    }\n",
       "\n",
       "    .dataframe tbody tr th {\n",
       "        vertical-align: top;\n",
       "    }\n",
       "</style>\n",
       "<table border=\"1\" class=\"dataframe\">\n",
       "  <thead>\n",
       "    <tr style=\"text-align: right;\">\n",
       "      <th></th>\n",
       "      <th>IS_ALCOHOL</th>\n",
       "      <th>food</th>\n",
       "      <th>catalan</th>\n",
       "      <th>rouleaux</th>\n",
       "      <th>randj</th>\n",
       "      <th>cidreri</th>\n",
       "      <th>stuf</th>\n",
       "      <th>toffe</th>\n",
       "      <th>morcha</th>\n",
       "      <th>weizenklai</th>\n",
       "      <th>...</th>\n",
       "      <th>R_MENU_CATEGORY_spanish</th>\n",
       "      <th>R_MENU_CATEGORY_sushi</th>\n",
       "      <th>R_MENU_CATEGORY_sweet treats</th>\n",
       "      <th>R_MENU_CATEGORY_thai</th>\n",
       "      <th>R_MENU_CATEGORY_turkish</th>\n",
       "      <th>R_MENU_CATEGORY_vegan</th>\n",
       "      <th>R_MENU_CATEGORY_vegetarian</th>\n",
       "      <th>R_MENU_CATEGORY_venezuelan</th>\n",
       "      <th>R_MENU_CATEGORY_vietnamese</th>\n",
       "      <th>R_MENU_CATEGORY_western</th>\n",
       "    </tr>\n",
       "  </thead>\n",
       "  <tbody>\n",
       "    <tr>\n",
       "      <th>1</th>\n",
       "      <td>False</td>\n",
       "      <td>False</td>\n",
       "      <td>False</td>\n",
       "      <td>False</td>\n",
       "      <td>False</td>\n",
       "      <td>False</td>\n",
       "      <td>False</td>\n",
       "      <td>False</td>\n",
       "      <td>False</td>\n",
       "      <td>False</td>\n",
       "      <td>...</td>\n",
       "      <td>0</td>\n",
       "      <td>0</td>\n",
       "      <td>0</td>\n",
       "      <td>0</td>\n",
       "      <td>0</td>\n",
       "      <td>0</td>\n",
       "      <td>0</td>\n",
       "      <td>0</td>\n",
       "      <td>0</td>\n",
       "      <td>0</td>\n",
       "    </tr>\n",
       "    <tr>\n",
       "      <th>2</th>\n",
       "      <td>False</td>\n",
       "      <td>False</td>\n",
       "      <td>False</td>\n",
       "      <td>False</td>\n",
       "      <td>False</td>\n",
       "      <td>False</td>\n",
       "      <td>False</td>\n",
       "      <td>False</td>\n",
       "      <td>False</td>\n",
       "      <td>False</td>\n",
       "      <td>...</td>\n",
       "      <td>0</td>\n",
       "      <td>0</td>\n",
       "      <td>0</td>\n",
       "      <td>0</td>\n",
       "      <td>0</td>\n",
       "      <td>0</td>\n",
       "      <td>0</td>\n",
       "      <td>0</td>\n",
       "      <td>0</td>\n",
       "      <td>0</td>\n",
       "    </tr>\n",
       "    <tr>\n",
       "      <th>3</th>\n",
       "      <td>False</td>\n",
       "      <td>False</td>\n",
       "      <td>False</td>\n",
       "      <td>False</td>\n",
       "      <td>False</td>\n",
       "      <td>False</td>\n",
       "      <td>False</td>\n",
       "      <td>False</td>\n",
       "      <td>False</td>\n",
       "      <td>False</td>\n",
       "      <td>...</td>\n",
       "      <td>0</td>\n",
       "      <td>0</td>\n",
       "      <td>0</td>\n",
       "      <td>0</td>\n",
       "      <td>0</td>\n",
       "      <td>0</td>\n",
       "      <td>0</td>\n",
       "      <td>0</td>\n",
       "      <td>0</td>\n",
       "      <td>0</td>\n",
       "    </tr>\n",
       "    <tr>\n",
       "      <th>5</th>\n",
       "      <td>False</td>\n",
       "      <td>False</td>\n",
       "      <td>False</td>\n",
       "      <td>False</td>\n",
       "      <td>False</td>\n",
       "      <td>False</td>\n",
       "      <td>False</td>\n",
       "      <td>False</td>\n",
       "      <td>False</td>\n",
       "      <td>False</td>\n",
       "      <td>...</td>\n",
       "      <td>0</td>\n",
       "      <td>0</td>\n",
       "      <td>0</td>\n",
       "      <td>0</td>\n",
       "      <td>0</td>\n",
       "      <td>0</td>\n",
       "      <td>0</td>\n",
       "      <td>0</td>\n",
       "      <td>0</td>\n",
       "      <td>0</td>\n",
       "    </tr>\n",
       "    <tr>\n",
       "      <th>6</th>\n",
       "      <td>False</td>\n",
       "      <td>False</td>\n",
       "      <td>False</td>\n",
       "      <td>False</td>\n",
       "      <td>False</td>\n",
       "      <td>False</td>\n",
       "      <td>False</td>\n",
       "      <td>False</td>\n",
       "      <td>False</td>\n",
       "      <td>False</td>\n",
       "      <td>...</td>\n",
       "      <td>0</td>\n",
       "      <td>0</td>\n",
       "      <td>0</td>\n",
       "      <td>0</td>\n",
       "      <td>0</td>\n",
       "      <td>0</td>\n",
       "      <td>0</td>\n",
       "      <td>0</td>\n",
       "      <td>0</td>\n",
       "      <td>0</td>\n",
       "    </tr>\n",
       "  </tbody>\n",
       "</table>\n",
       "<p>5 rows × 10407 columns</p>\n",
       "</div>"
      ],
      "text/plain": [
       "   IS_ALCOHOL   food  catalan  rouleaux  randj  cidreri   stuf  toffe  morcha  \\\n",
       "1       False  False    False     False  False    False  False  False   False   \n",
       "2       False  False    False     False  False    False  False  False   False   \n",
       "3       False  False    False     False  False    False  False  False   False   \n",
       "5       False  False    False     False  False    False  False  False   False   \n",
       "6       False  False    False     False  False    False  False  False   False   \n",
       "\n",
       "   weizenklai           ...             R_MENU_CATEGORY_spanish  \\\n",
       "1       False           ...                                   0   \n",
       "2       False           ...                                   0   \n",
       "3       False           ...                                   0   \n",
       "5       False           ...                                   0   \n",
       "6       False           ...                                   0   \n",
       "\n",
       "   R_MENU_CATEGORY_sushi  R_MENU_CATEGORY_sweet treats  R_MENU_CATEGORY_thai  \\\n",
       "1                      0                             0                     0   \n",
       "2                      0                             0                     0   \n",
       "3                      0                             0                     0   \n",
       "5                      0                             0                     0   \n",
       "6                      0                             0                     0   \n",
       "\n",
       "   R_MENU_CATEGORY_turkish  R_MENU_CATEGORY_vegan  R_MENU_CATEGORY_vegetarian  \\\n",
       "1                        0                      0                           0   \n",
       "2                        0                      0                           0   \n",
       "3                        0                      0                           0   \n",
       "5                        0                      0                           0   \n",
       "6                        0                      0                           0   \n",
       "\n",
       "   R_MENU_CATEGORY_venezuelan  R_MENU_CATEGORY_vietnamese  \\\n",
       "1                           0                           0   \n",
       "2                           0                           0   \n",
       "3                           0                           0   \n",
       "5                           0                           0   \n",
       "6                           0                           0   \n",
       "\n",
       "   R_MENU_CATEGORY_western  \n",
       "1                        0  \n",
       "2                        0  \n",
       "3                        0  \n",
       "5                        0  \n",
       "6                        0  \n",
       "\n",
       "[5 rows x 10407 columns]"
      ]
     },
     "execution_count": 15,
     "metadata": {},
     "output_type": "execute_result"
    }
   ],
   "source": [
    "encoded_df.head()"
   ]
  },
  {
   "cell_type": "code",
   "execution_count": 19,
   "metadata": {},
   "outputs": [
    {
     "data": {
      "text/plain": [
       "PCA(copy=True, iterated_power='auto', n_components=2, random_state=None,\n",
       "  svd_solver='auto', tol=0.0, whiten=False)"
      ]
     },
     "execution_count": 19,
     "metadata": {},
     "output_type": "execute_result"
    }
   ],
   "source": [
    "pca = PCA(n_components=2)\n",
    "pca.fit(encoded_df)"
   ]
  },
  {
   "cell_type": "code",
   "execution_count": 20,
   "metadata": {},
   "outputs": [],
   "source": [
    "pca_df = pca.fit_transform(encoded_df)\n",
    "kmeans = KMeans(n_clusters=6, random_state=0).fit(pca_df)"
   ]
  },
  {
   "cell_type": "code",
   "execution_count": null,
   "metadata": {},
   "outputs": [],
   "source": [
    "colors = {0: 'y', 1: u'orchid', 2: u'darkcyan', 3: u'grey', 4: u'dodgerblue', 5: u'turquoise', 6: u'darkviolet'}\n",
    "for point in pca_df:\n",
    "    plt.scatter(point[0],point[1],c=colors[kmeans.predict(point.reshape(1, -1))[0]])\n",
    "plt.title('PCA analysis for encoded set of all tokenized words')\n",
    "#plt.scatter([i[0] for i in kmeans.cluster_centers_], [i[1] for i in kmeans.cluster_centers_], c='k')\n",
    "plt.show()\n",
    "\n",
    "annot = [1,100,1000]\n",
    "for i in [1,5,6,10, 48, 84, 27985]:\n",
    "    #get word\n",
    "    word = tok_df['food'].loc[i].split(',')[0]\n",
    "    plt.annotate(word, xy=pca_df[i][:2])"
   ]
  },
  {
   "cell_type": "code",
   "execution_count": null,
   "metadata": {},
   "outputs": [],
   "source": [
    "tok_df"
   ]
  },
  {
   "cell_type": "code",
   "execution_count": null,
   "metadata": {},
   "outputs": [],
   "source": []
  },
  {
   "cell_type": "code",
   "execution_count": null,
   "metadata": {
    "collapsed": true
   },
   "outputs": [],
   "source": []
  }
 ],
 "metadata": {
  "kernelspec": {
   "display_name": "Python 3",
   "language": "python",
   "name": "python3"
  },
  "language_info": {
   "codemirror_mode": {
    "name": "ipython",
    "version": 3
   },
   "file_extension": ".py",
   "mimetype": "text/x-python",
   "name": "python",
   "nbconvert_exporter": "python",
   "pygments_lexer": "ipython3",
   "version": "3.6.1"
  }
 },
 "nbformat": 4,
 "nbformat_minor": 2
}
