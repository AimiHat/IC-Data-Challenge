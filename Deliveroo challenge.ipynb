{
 "cells": [
  {
   "cell_type": "code",
   "execution_count": 1,
   "metadata": {},
   "outputs": [],
   "source": [
    "import pandas as pd\n",
    "import numpy as np\n",
    "import pickle\n",
    "import utils\n",
    "from collections import Counter"
   ]
  },
  {
   "cell_type": "code",
   "execution_count": 2,
   "metadata": {},
   "outputs": [],
   "source": [
    "data = pd.read_csv('challenge_dat.csv')"
   ]
  },
  {
   "cell_type": "code",
   "execution_count": 3,
   "metadata": {},
   "outputs": [
    {
     "data": {
      "text/html": [
       "<div>\n",
       "<style>\n",
       "    .dataframe thead tr:only-child th {\n",
       "        text-align: right;\n",
       "    }\n",
       "\n",
       "    .dataframe thead th {\n",
       "        text-align: left;\n",
       "    }\n",
       "\n",
       "    .dataframe tbody tr th {\n",
       "        vertical-align: top;\n",
       "    }\n",
       "</style>\n",
       "<table border=\"1\" class=\"dataframe\">\n",
       "  <thead>\n",
       "    <tr style=\"text-align: right;\">\n",
       "      <th></th>\n",
       "      <th>RESTAURANT_NAME</th>\n",
       "      <th>CITY</th>\n",
       "      <th>COUNTRY</th>\n",
       "      <th>R_PRIMARY_LOC_TAG</th>\n",
       "      <th>R_OTHER_LOC_TAG</th>\n",
       "      <th>R_MENU_CATEGORY</th>\n",
       "      <th>R_OTHER_MENU_TAGS</th>\n",
       "      <th>ITEM_NAME</th>\n",
       "      <th>DESCRIPTION</th>\n",
       "      <th>IS_ALCOHOL</th>\n",
       "    </tr>\n",
       "  </thead>\n",
       "  <tbody>\n",
       "    <tr>\n",
       "      <th>0</th>\n",
       "      <td>Hero Sandwich</td>\n",
       "      <td>Hong Kong</td>\n",
       "      <td>Hong Kong</td>\n",
       "      <td>american</td>\n",
       "      <td>western</td>\n",
       "      <td>Sandwiches</td>\n",
       "      <td>american, western, burgers, Pasta, Smoothies, ...</td>\n",
       "      <td>Corn Beef Baked Potato</td>\n",
       "      <td>鹹牛肉焗薯</td>\n",
       "      <td>False</td>\n",
       "    </tr>\n",
       "    <tr>\n",
       "      <th>1</th>\n",
       "      <td>Hamachi-Ya</td>\n",
       "      <td>Sydney</td>\n",
       "      <td>Australia</td>\n",
       "      <td>japanese</td>\n",
       "      <td>NaN</td>\n",
       "      <td>japanese</td>\n",
       "      <td>sushi, bento, Cream of the crop, Big flavours,...</td>\n",
       "      <td>Spicy Garlic Edamame</td>\n",
       "      <td>Poached green soy beans tossed with salt fresh...</td>\n",
       "      <td>False</td>\n",
       "    </tr>\n",
       "    <tr>\n",
       "      <th>2</th>\n",
       "      <td>Hamachi-Ya</td>\n",
       "      <td>Sydney</td>\n",
       "      <td>Australia</td>\n",
       "      <td>japanese</td>\n",
       "      <td>NaN</td>\n",
       "      <td>japanese</td>\n",
       "      <td>sushi, bento, Cream of the crop, Big flavours,...</td>\n",
       "      <td>Soft Shell Crab (2pcs)</td>\n",
       "      <td>Deep-fried soft shell crab with light ponzu sauce</td>\n",
       "      <td>False</td>\n",
       "    </tr>\n",
       "    <tr>\n",
       "      <th>3</th>\n",
       "      <td>Hamachi-Ya</td>\n",
       "      <td>Sydney</td>\n",
       "      <td>Australia</td>\n",
       "      <td>japanese</td>\n",
       "      <td>NaN</td>\n",
       "      <td>japanese</td>\n",
       "      <td>sushi, bento, Cream of the crop, Big flavours,...</td>\n",
       "      <td>Harumaki (4Pcs)</td>\n",
       "      <td>Deep-fried Japanese style vegetable springroll</td>\n",
       "      <td>False</td>\n",
       "    </tr>\n",
       "    <tr>\n",
       "      <th>4</th>\n",
       "      <td>Hamachi-Ya</td>\n",
       "      <td>Sydney</td>\n",
       "      <td>Australia</td>\n",
       "      <td>japanese</td>\n",
       "      <td>NaN</td>\n",
       "      <td>japanese</td>\n",
       "      <td>sushi, bento, Cream of the crop, Big flavours,...</td>\n",
       "      <td>Avocado</td>\n",
       "      <td>NaN</td>\n",
       "      <td>False</td>\n",
       "    </tr>\n",
       "  </tbody>\n",
       "</table>\n",
       "</div>"
      ],
      "text/plain": [
       "  RESTAURANT_NAME       CITY    COUNTRY R_PRIMARY_LOC_TAG R_OTHER_LOC_TAG  \\\n",
       "0   Hero Sandwich  Hong Kong  Hong Kong          american         western   \n",
       "1      Hamachi-Ya     Sydney  Australia          japanese             NaN   \n",
       "2      Hamachi-Ya     Sydney  Australia          japanese             NaN   \n",
       "3      Hamachi-Ya     Sydney  Australia          japanese             NaN   \n",
       "4      Hamachi-Ya     Sydney  Australia          japanese             NaN   \n",
       "\n",
       "  R_MENU_CATEGORY                                  R_OTHER_MENU_TAGS  \\\n",
       "0      Sandwiches  american, western, burgers, Pasta, Smoothies, ...   \n",
       "1        japanese  sushi, bento, Cream of the crop, Big flavours,...   \n",
       "2        japanese  sushi, bento, Cream of the crop, Big flavours,...   \n",
       "3        japanese  sushi, bento, Cream of the crop, Big flavours,...   \n",
       "4        japanese  sushi, bento, Cream of the crop, Big flavours,...   \n",
       "\n",
       "                ITEM_NAME                                        DESCRIPTION  \\\n",
       "0  Corn Beef Baked Potato                                              鹹牛肉焗薯   \n",
       "1    Spicy Garlic Edamame  Poached green soy beans tossed with salt fresh...   \n",
       "2  Soft Shell Crab (2pcs)  Deep-fried soft shell crab with light ponzu sauce   \n",
       "3         Harumaki (4Pcs)     Deep-fried Japanese style vegetable springroll   \n",
       "4                 Avocado                                                NaN   \n",
       "\n",
       "   IS_ALCOHOL  \n",
       "0       False  \n",
       "1       False  \n",
       "2       False  \n",
       "3       False  \n",
       "4       False  "
      ]
     },
     "execution_count": 3,
     "metadata": {},
     "output_type": "execute_result"
    }
   ],
   "source": [
    "data.head()"
   ]
  },
  {
   "cell_type": "code",
   "execution_count": 4,
   "metadata": {
    "collapsed": true
   },
   "outputs": [],
   "source": [
    "ascii_data = data.copy()\n",
    "#remove non ascii from description, and text items\n",
    "columns_to_ascii = ['R_OTHER_MENU_TAGS','ITEM_NAME','DESCRIPTION']"
   ]
  },
  {
   "cell_type": "code",
   "execution_count": null,
   "metadata": {},
   "outputs": [
    {
     "name": "stdout",
     "output_type": "stream",
     "text": [
      "775109  after na removal\n",
      "738849  after ascii\n"
     ]
    }
   ],
   "source": [
    "ascii_data = ascii_data.dropna(subset=['R_OTHER_MENU_TAGS','DESCRIPTION','ITEM_NAME','R_MENU_CATEGORY','R_PRIMARY_LOC_TAG'])\n",
    "print(len(ascii_data), ' after na removal')\n",
    "for col in columns_to_ascii:\n",
    "    ascii_data[col] = ascii_data[col].astype(str).apply(lambda x: ''.join(['' if ord(i) < 32 or ord(i) > 126 else i for i in x]))\n",
    "    ascii_data[col].replace('', np.nan, inplace=True)\n",
    "#remove nan\n",
    "df = ascii_data.dropna(subset=['R_OTHER_MENU_TAGS','DESCRIPTION','ITEM_NAME','R_MENU_CATEGORY','R_PRIMARY_LOC_TAG'])\n",
    "print(len(df), ' after ascii')"
   ]
  },
  {
   "cell_type": "code",
   "execution_count": null,
   "metadata": {},
   "outputs": [
    {
     "name": "stderr",
     "output_type": "stream",
     "text": [
      "/Users/aimihat/anaconda/lib/python3.6/site-packages/ipykernel_launcher.py:2: SettingWithCopyWarning: \n",
      "A value is trying to be set on a copy of a slice from a DataFrame.\n",
      "Try using .loc[row_indexer,col_indexer] = value instead\n",
      "\n",
      "See the caveats in the documentation: http://pandas.pydata.org/pandas-docs/stable/indexing.html#indexing-view-versus-copy\n",
      "  \n"
     ]
    }
   ],
   "source": [
    "#merging the 3 columns\n",
    "df['food'] = df['R_OTHER_MENU_TAGS'] + \",\" + df['ITEM_NAME'] + \",\" + df['DESCRIPTION']\n",
    "df = df.drop(columns_to_ascii, axis=1)\n",
    "df = pd.get_dummies(df, columns=['RESTAURANT_NAME','CITY\tCOUNTRY\tR_PRIMARY_LOC_TAG\tR_OTHER_LOC_TAG\tR_MENU_CATEGORY\t])"
   ]
  },
  {
   "cell_type": "code",
   "execution_count": null,
   "metadata": {},
   "outputs": [],
   "source": [
    "df = df.loc[:10000]\n",
    "tok_df = df.copy()\n",
    "tok_df['food'] = tok_df['food'].apply(utils.tokenize)"
   ]
  },
  {
   "cell_type": "code",
   "execution_count": null,
   "metadata": {},
   "outputs": [],
   "source": [
    "#print(df[df['food'].str.contains('13th')]['food'].tolist())"
   ]
  },
  {
   "cell_type": "code",
   "execution_count": null,
   "metadata": {},
   "outputs": [],
   "source": [
    "all_words = []\n",
    "for row in tok_df['food']:\n",
    "    for word in row.split(','):\n",
    "        all_words.append(word)"
   ]
  },
  {
   "cell_type": "code",
   "execution_count": null,
   "metadata": {},
   "outputs": [],
   "source": [
    "#tok_df['food'].to_csv('10000.csv')"
   ]
  },
  {
   "cell_type": "code",
   "execution_count": null,
   "metadata": {},
   "outputs": [],
   "source": [
    "Counter(all_words).most_common(10)"
   ]
  },
  {
   "cell_type": "code",
   "execution_count": null,
   "metadata": {},
   "outputs": [],
   "source": [
    "#remove unwanted words\n",
    "generic_words = ['with', 'and', 'the', 'our', 'your']\n",
    "for word in generic_words:\n",
    "    if word in all_words:\n",
    "        all_words.remove(word)\n",
    "        \n",
    "word_set = set(all_words)"
   ]
  },
  {
   "cell_type": "code",
   "execution_count": null,
   "metadata": {
    "collapsed": true
   },
   "outputs": [],
   "source": [
    "encoded_df = tok_df.copy()"
   ]
  },
  {
   "cell_type": "code",
   "execution_count": null,
   "metadata": {},
   "outputs": [],
   "source": [
    "#for everyword\n",
    "for word in word_set:\n",
    "    #create column with 1 if appears 0 else\n",
    "    encoded_df[word] = tok_df['food'].str.contains(word)"
   ]
  },
  {
   "cell_type": "code",
   "execution_count": null,
   "metadata": {},
   "outputs": [],
   "source": [
    "len(encoded_df.columns)"
   ]
  },
  {
   "cell_type": "code",
   "execution_count": null,
   "metadata": {
    "collapsed": true
   },
   "outputs": [],
   "source": []
  }
 ],
 "metadata": {
  "kernelspec": {
   "display_name": "Python 3",
   "language": "python",
   "name": "python3"
  },
  "language_info": {
   "codemirror_mode": {
    "name": "ipython",
    "version": 3
   },
   "file_extension": ".py",
   "mimetype": "text/x-python",
   "name": "python",
   "nbconvert_exporter": "python",
   "pygments_lexer": "ipython3",
   "version": "3.6.1"
  }
 },
 "nbformat": 4,
 "nbformat_minor": 2
}
