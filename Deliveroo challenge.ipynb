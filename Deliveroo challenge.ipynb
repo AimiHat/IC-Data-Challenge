{
 "cells": [
  {
   "cell_type": "code",
   "execution_count": 1,
   "metadata": {},
   "outputs": [],
   "source": [
    "import pandas as pd\n",
    "import numpy as np\n",
    "import pickle\n",
    "import utils\n",
    "from collections import Counter"
   ]
  },
  {
   "cell_type": "code",
   "execution_count": 2,
   "metadata": {},
   "outputs": [],
   "source": [
    "data = pd.read_csv('challenge_dat.csv')"
   ]
  },
  {
   "cell_type": "code",
   "execution_count": 3,
   "metadata": {},
   "outputs": [
    {
     "data": {
      "text/html": [
       "<div>\n",
       "<style>\n",
       "    .dataframe thead tr:only-child th {\n",
       "        text-align: right;\n",
       "    }\n",
       "\n",
       "    .dataframe thead th {\n",
       "        text-align: left;\n",
       "    }\n",
       "\n",
       "    .dataframe tbody tr th {\n",
       "        vertical-align: top;\n",
       "    }\n",
       "</style>\n",
       "<table border=\"1\" class=\"dataframe\">\n",
       "  <thead>\n",
       "    <tr style=\"text-align: right;\">\n",
       "      <th></th>\n",
       "      <th>RESTAURANT_NAME</th>\n",
       "      <th>CITY</th>\n",
       "      <th>COUNTRY</th>\n",
       "      <th>R_PRIMARY_LOC_TAG</th>\n",
       "      <th>R_OTHER_LOC_TAG</th>\n",
       "      <th>R_MENU_CATEGORY</th>\n",
       "      <th>R_OTHER_MENU_TAGS</th>\n",
       "      <th>ITEM_NAME</th>\n",
       "      <th>DESCRIPTION</th>\n",
       "      <th>IS_ALCOHOL</th>\n",
       "    </tr>\n",
       "  </thead>\n",
       "  <tbody>\n",
       "    <tr>\n",
       "      <th>0</th>\n",
       "      <td>Hero Sandwich</td>\n",
       "      <td>Hong Kong</td>\n",
       "      <td>Hong Kong</td>\n",
       "      <td>american</td>\n",
       "      <td>western</td>\n",
       "      <td>Sandwiches</td>\n",
       "      <td>american, western, burgers, Pasta, Smoothies, ...</td>\n",
       "      <td>Corn Beef Baked Potato</td>\n",
       "      <td>鹹牛肉焗薯</td>\n",
       "      <td>False</td>\n",
       "    </tr>\n",
       "    <tr>\n",
       "      <th>1</th>\n",
       "      <td>Hamachi-Ya</td>\n",
       "      <td>Sydney</td>\n",
       "      <td>Australia</td>\n",
       "      <td>japanese</td>\n",
       "      <td>NaN</td>\n",
       "      <td>japanese</td>\n",
       "      <td>sushi, bento, Cream of the crop, Big flavours,...</td>\n",
       "      <td>Spicy Garlic Edamame</td>\n",
       "      <td>Poached green soy beans tossed with salt fresh...</td>\n",
       "      <td>False</td>\n",
       "    </tr>\n",
       "    <tr>\n",
       "      <th>2</th>\n",
       "      <td>Hamachi-Ya</td>\n",
       "      <td>Sydney</td>\n",
       "      <td>Australia</td>\n",
       "      <td>japanese</td>\n",
       "      <td>NaN</td>\n",
       "      <td>japanese</td>\n",
       "      <td>sushi, bento, Cream of the crop, Big flavours,...</td>\n",
       "      <td>Soft Shell Crab (2pcs)</td>\n",
       "      <td>Deep-fried soft shell crab with light ponzu sauce</td>\n",
       "      <td>False</td>\n",
       "    </tr>\n",
       "    <tr>\n",
       "      <th>3</th>\n",
       "      <td>Hamachi-Ya</td>\n",
       "      <td>Sydney</td>\n",
       "      <td>Australia</td>\n",
       "      <td>japanese</td>\n",
       "      <td>NaN</td>\n",
       "      <td>japanese</td>\n",
       "      <td>sushi, bento, Cream of the crop, Big flavours,...</td>\n",
       "      <td>Harumaki (4Pcs)</td>\n",
       "      <td>Deep-fried Japanese style vegetable springroll</td>\n",
       "      <td>False</td>\n",
       "    </tr>\n",
       "    <tr>\n",
       "      <th>4</th>\n",
       "      <td>Hamachi-Ya</td>\n",
       "      <td>Sydney</td>\n",
       "      <td>Australia</td>\n",
       "      <td>japanese</td>\n",
       "      <td>NaN</td>\n",
       "      <td>japanese</td>\n",
       "      <td>sushi, bento, Cream of the crop, Big flavours,...</td>\n",
       "      <td>Avocado</td>\n",
       "      <td>NaN</td>\n",
       "      <td>False</td>\n",
       "    </tr>\n",
       "    <tr>\n",
       "      <th>5</th>\n",
       "      <td>Lion City Kitchen</td>\n",
       "      <td>London</td>\n",
       "      <td>UK</td>\n",
       "      <td>american</td>\n",
       "      <td>Singaporean</td>\n",
       "      <td>american</td>\n",
       "      <td>Singaporean, burgers, Guilty pleasures, tacos,...</td>\n",
       "      <td>Rendang Beef</td>\n",
       "      <td>Six-hour slow cooked beef brisket and shin in ...</td>\n",
       "      <td>False</td>\n",
       "    </tr>\n",
       "    <tr>\n",
       "      <th>6</th>\n",
       "      <td>Céleste</td>\n",
       "      <td>Paris</td>\n",
       "      <td>France</td>\n",
       "      <td>asian</td>\n",
       "      <td>chinese</td>\n",
       "      <td>asian</td>\n",
       "      <td>chinese</td>\n",
       "      <td>Bo bun boeuf</td>\n",
       "      <td>Vermicelle au boeuf et nems</td>\n",
       "      <td>False</td>\n",
       "    </tr>\n",
       "    <tr>\n",
       "      <th>7</th>\n",
       "      <td>Céleste</td>\n",
       "      <td>Paris</td>\n",
       "      <td>France</td>\n",
       "      <td>asian</td>\n",
       "      <td>chinese</td>\n",
       "      <td>asian</td>\n",
       "      <td>chinese</td>\n",
       "      <td>Crevettes au curry rouge</td>\n",
       "      <td>Et à la crème de coco</td>\n",
       "      <td>False</td>\n",
       "    </tr>\n",
       "    <tr>\n",
       "      <th>8</th>\n",
       "      <td>Céleste</td>\n",
       "      <td>Paris</td>\n",
       "      <td>France</td>\n",
       "      <td>asian</td>\n",
       "      <td>chinese</td>\n",
       "      <td>asian</td>\n",
       "      <td>chinese</td>\n",
       "      <td>Emincé de bœuf mariné</td>\n",
       "      <td>A la façon du chef</td>\n",
       "      <td>False</td>\n",
       "    </tr>\n",
       "    <tr>\n",
       "      <th>9</th>\n",
       "      <td>Céleste</td>\n",
       "      <td>Paris</td>\n",
       "      <td>France</td>\n",
       "      <td>asian</td>\n",
       "      <td>chinese</td>\n",
       "      <td>asian</td>\n",
       "      <td>chinese</td>\n",
       "      <td>Nems au boeuf</td>\n",
       "      <td>2 pièces</td>\n",
       "      <td>False</td>\n",
       "    </tr>\n",
       "  </tbody>\n",
       "</table>\n",
       "</div>"
      ],
      "text/plain": [
       "     RESTAURANT_NAME       CITY    COUNTRY R_PRIMARY_LOC_TAG R_OTHER_LOC_TAG  \\\n",
       "0      Hero Sandwich  Hong Kong  Hong Kong          american         western   \n",
       "1         Hamachi-Ya     Sydney  Australia          japanese             NaN   \n",
       "2         Hamachi-Ya     Sydney  Australia          japanese             NaN   \n",
       "3         Hamachi-Ya     Sydney  Australia          japanese             NaN   \n",
       "4         Hamachi-Ya     Sydney  Australia          japanese             NaN   \n",
       "5  Lion City Kitchen     London         UK          american     Singaporean   \n",
       "6            Céleste      Paris     France             asian         chinese   \n",
       "7            Céleste      Paris     France             asian         chinese   \n",
       "8            Céleste      Paris     France             asian         chinese   \n",
       "9            Céleste      Paris     France             asian         chinese   \n",
       "\n",
       "  R_MENU_CATEGORY                                  R_OTHER_MENU_TAGS  \\\n",
       "0      Sandwiches  american, western, burgers, Pasta, Smoothies, ...   \n",
       "1        japanese  sushi, bento, Cream of the crop, Big flavours,...   \n",
       "2        japanese  sushi, bento, Cream of the crop, Big flavours,...   \n",
       "3        japanese  sushi, bento, Cream of the crop, Big flavours,...   \n",
       "4        japanese  sushi, bento, Cream of the crop, Big flavours,...   \n",
       "5        american  Singaporean, burgers, Guilty pleasures, tacos,...   \n",
       "6           asian                                            chinese   \n",
       "7           asian                                            chinese   \n",
       "8           asian                                            chinese   \n",
       "9           asian                                            chinese   \n",
       "\n",
       "                  ITEM_NAME  \\\n",
       "0    Corn Beef Baked Potato   \n",
       "1      Spicy Garlic Edamame   \n",
       "2    Soft Shell Crab (2pcs)   \n",
       "3           Harumaki (4Pcs)   \n",
       "4                   Avocado   \n",
       "5              Rendang Beef   \n",
       "6              Bo bun boeuf   \n",
       "7  Crevettes au curry rouge   \n",
       "8     Emincé de bœuf mariné   \n",
       "9             Nems au boeuf   \n",
       "\n",
       "                                         DESCRIPTION  IS_ALCOHOL  \n",
       "0                                              鹹牛肉焗薯       False  \n",
       "1  Poached green soy beans tossed with salt fresh...       False  \n",
       "2  Deep-fried soft shell crab with light ponzu sauce       False  \n",
       "3     Deep-fried Japanese style vegetable springroll       False  \n",
       "4                                                NaN       False  \n",
       "5  Six-hour slow cooked beef brisket and shin in ...       False  \n",
       "6                        Vermicelle au boeuf et nems       False  \n",
       "7                              Et à la crème de coco       False  \n",
       "8                                 A la façon du chef       False  \n",
       "9                                           2 pièces       False  "
      ]
     },
     "execution_count": 3,
     "metadata": {},
     "output_type": "execute_result"
    }
   ],
   "source": [
    "data.head(10)"
   ]
  },
  {
   "cell_type": "code",
   "execution_count": 4,
   "metadata": {
    "collapsed": true
   },
   "outputs": [],
   "source": [
    "ascii_data = data.copy()\n",
    "#remove non ascii from description, and text items\n",
    "columns_to_ascii = ['R_OTHER_MENU_TAGS','ITEM_NAME','DESCRIPTION']"
   ]
  },
  {
   "cell_type": "code",
   "execution_count": 5,
   "metadata": {},
   "outputs": [
    {
     "name": "stdout",
     "output_type": "stream",
     "text": [
      "775109  after na removal\n",
      "738849  after ascii\n"
     ]
    }
   ],
   "source": [
    "ascii_data = ascii_data.dropna(subset=['R_OTHER_MENU_TAGS','DESCRIPTION','ITEM_NAME','R_MENU_CATEGORY','R_PRIMARY_LOC_TAG'])\n",
    "print(len(ascii_data), ' after na removal')\n",
    "for col in columns_to_ascii:\n",
    "    ascii_data[col] = ascii_data[col].astype(str).apply(lambda x: ''.join(['' if ord(i) < 32 or ord(i) > 126 else i for i in x]))\n",
    "    ascii_data[col].replace('', np.nan, inplace=True)\n",
    "#remove nan\n",
    "df = ascii_data.dropna(subset=['R_OTHER_MENU_TAGS','DESCRIPTION','ITEM_NAME','R_MENU_CATEGORY','R_PRIMARY_LOC_TAG'])\n",
    "print(len(df), ' after ascii')"
   ]
  },
  {
   "cell_type": "code",
   "execution_count": 6,
   "metadata": {},
   "outputs": [
    {
     "name": "stderr",
     "output_type": "stream",
     "text": [
      "/Users/aimihat/anaconda/lib/python3.6/site-packages/ipykernel_launcher.py:2: SettingWithCopyWarning: \n",
      "A value is trying to be set on a copy of a slice from a DataFrame.\n",
      "Try using .loc[row_indexer,col_indexer] = value instead\n",
      "\n",
      "See the caveats in the documentation: http://pandas.pydata.org/pandas-docs/stable/indexing.html#indexing-view-versus-copy\n",
      "  \n"
     ]
    }
   ],
   "source": [
    "#merging the 3 columns\n",
    "df['food'] = df['R_OTHER_MENU_TAGS'] + \",\" + df['ITEM_NAME'] + \",\" + df['DESCRIPTION']\n",
    "df = df.drop(columns_to_ascii, axis=1)"
   ]
  },
  {
   "cell_type": "code",
   "execution_count": 7,
   "metadata": {},
   "outputs": [],
   "source": [
    "df = df.loc[:10000]\n",
    "tok_df = df.copy()\n",
    "tok_df['food'] = tok_df['food'].apply(utils.tokenize)"
   ]
  },
  {
   "cell_type": "code",
   "execution_count": 12,
   "metadata": {},
   "outputs": [],
   "source": [
    "#print(df[df['food'].str.contains('13th')]['food'].tolist())"
   ]
  },
  {
   "cell_type": "code",
   "execution_count": 15,
   "metadata": {},
   "outputs": [
    {
     "data": {
      "text/plain": [
       "5583"
      ]
     },
     "execution_count": 15,
     "metadata": {},
     "output_type": "execute_result"
    }
   ],
   "source": [
    "all_words = []\n",
    "for row in tok_df['food']:\n",
    "    for word in row.split(','):\n",
    "        all_words.append(word)\n",
    "        \n",
    "len(set(all_words))"
   ]
  },
  {
   "cell_type": "code",
   "execution_count": 17,
   "metadata": {},
   "outputs": [],
   "source": [
    "#tok_df['food'].to_csv('10000.csv')"
   ]
  },
  {
   "cell_type": "code",
   "execution_count": 10,
   "metadata": {},
   "outputs": [
    {
     "data": {
      "text/plain": [
       "[('for', 1222),\n",
       " ('with', 1170),\n",
       " ('and', 1117),\n",
       " ('lunch', 842),\n",
       " ('salad', 747),\n",
       " ('onli', 744),\n",
       " ('deliveroo', 738),\n",
       " ('great', 710),\n",
       " ('chicken', 572),\n",
       " ('flavour', 560),\n",
       " ('the', 546),\n",
       " ('fish', 538),\n",
       " ('small', 521),\n",
       " ('big', 510),\n",
       " ('price', 505),\n",
       " ('pizza', 489),\n",
       " ('sauc', 467),\n",
       " ('perfect', 448),\n",
       " ('share', 446),\n",
       " ('cream', 441),\n",
       " ('food', 421),\n",
       " ('free', 402),\n",
       " ('curri', 397),\n",
       " ('pasta', 392),\n",
       " ('healthi', 382),\n",
       " ('crop', 373),\n",
       " ('sushi', 347),\n",
       " ('breakfast', 345),\n",
       " ('gem', 330),\n",
       " ('local', 329),\n",
       " ('fri', 327),\n",
       " ('bbq', 324),\n",
       " ('guilti', 322),\n",
       " ('pleasur', 322),\n",
       " ('tomato', 280),\n",
       " ('vegetarian', 267),\n",
       " ('asian', 267),\n",
       " ('ticket', 267),\n",
       " ('restaur', 267),\n",
       " ('sweet', 265),\n",
       " ('burger', 255),\n",
       " ('onion', 248),\n",
       " ('gluten', 242),\n",
       " ('chees', 224),\n",
       " ('serv', 224),\n",
       " ('tandoori', 213),\n",
       " ('drink', 211),\n",
       " ('indian', 209),\n",
       " ('mit', 205),\n",
       " ('und', 199),\n",
       " ('cook', 197),\n",
       " ('famili', 195),\n",
       " ('italian', 194),\n",
       " ('favourit', 192),\n",
       " ('mezz', 192),\n",
       " ('seafood', 190),\n",
       " ('grill', 188),\n",
       " ('fresh', 183),\n",
       " ('treat', 175),\n",
       " ('mediterranean', 168),\n",
       " ('rice', 165),\n",
       " ('garlic', 162),\n",
       " ('spice', 161),\n",
       " ('avocado', 159),\n",
       " ('con', 156),\n",
       " ('roll', 156),\n",
       " ('dessert', 156),\n",
       " ('noodl', 155),\n",
       " ('wrap', 154),\n",
       " ('deliveri', 153),\n",
       " ('spici', 152),\n",
       " ('american', 147),\n",
       " ('vegan', 145),\n",
       " ('falafel', 145),\n",
       " ('prawn', 144),\n",
       " ('veget', 143),\n",
       " ('chilli', 142),\n",
       " ('chines', 141),\n",
       " ('mozzarella', 140),\n",
       " ('middl', 136),\n",
       " ('eastern', 136),\n",
       " ('wine', 134),\n",
       " ('mix', 130),\n",
       " ('wok', 130),\n",
       " ('red', 129),\n",
       " ('sandwich', 124),\n",
       " ('beef', 122),\n",
       " ('soup', 122),\n",
       " ('marin', 120),\n",
       " ('australian', 119),\n",
       " ('egg', 118),\n",
       " ('potato', 115),\n",
       " ('bakeri', 114),\n",
       " ('salmon', 113),\n",
       " ('green', 110),\n",
       " ('lemon', 107),\n",
       " ('orient', 106),\n",
       " ('dumpl', 104),\n",
       " ('pepper', 103),\n",
       " ('lamb', 103)]"
      ]
     },
     "execution_count": 10,
     "metadata": {},
     "output_type": "execute_result"
    }
   ],
   "source": [
    "Counter(all_words).most_common(100)"
   ]
  },
  {
   "cell_type": "code",
   "execution_count": 20,
   "metadata": {},
   "outputs": [],
   "source": [
    "#remove unwanted words\n",
    "#generic_words = ''\n",
    "#all_words.remove(generic_words)"
   ]
  },
  {
   "cell_type": "code",
   "execution_count": null,
   "metadata": {
    "collapsed": true
   },
   "outputs": [],
   "source": [
    "#for everyword create column with 1 if appears 0 else"
   ]
  }
 ],
 "metadata": {
  "kernelspec": {
   "display_name": "Python 3",
   "language": "python",
   "name": "python3"
  },
  "language_info": {
   "codemirror_mode": {
    "name": "ipython",
    "version": 3
   },
   "file_extension": ".py",
   "mimetype": "text/x-python",
   "name": "python",
   "nbconvert_exporter": "python",
   "pygments_lexer": "ipython3",
   "version": "3.6.1"
  }
 },
 "nbformat": 4,
 "nbformat_minor": 2
}
